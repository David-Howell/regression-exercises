{
 "cells": [
  {
   "cell_type": "markdown",
   "id": "c48cddce",
   "metadata": {},
   "source": [
    "<a id='TOP'> </a>\n",
    "___\n",
    "<!-- for i in range(1,14):\n",
    "    print(f'|[--__{i}__--](#{i})|') -->"
   ]
  },
  {
   "cell_type": "markdown",
   "id": "5da388d9",
   "metadata": {},
   "source": [
    "# Exercises\n",
    "Our Zillow scenario continues:\n",
    "\n",
    "As a Codeup data science graduate, you want to show off your skills to the _Zillow_ data science team in hopes of getting an interview for a position you saw pop up on LinkedIn. You thought it might look impressive to build an 'end-to-end project' in which you use some of their 'Kaggle' data to predict property values using some of their available features; who knows, you might even do some feature engineering to blow them away. Your goal is to predict the values of single unit properties using the observations from 2017.\n",
    "\n",
    "In these exercises, you will run through the stages of exploration as you continue to work toward the above goal."
   ]
  },
  {
   "cell_type": "markdown",
   "id": "2c2493d4",
   "metadata": {},
   "source": [
    "<a id='1'> </a>\n",
    "<div class=\"alert alert-block alert-info\">\n",
    "</div>\n",
    "\n",
    "***\n",
    "### 1. As with encoded vs. unencoded data, we recommend exploring un-scaled data in your EDA process.\n",
    "***\n",
    "<div class=\"alert alert-block alert-info\">\n",
    "</div>\n",
    "\n",
    "|[--__TOP__--](#TOP)||[--__1__--](#1)||[--__2__--](#2)||[--__3__--](#3)||[--__4__--](#4)||[--__5__--](#5)||[--__6__--](#6)||[--__7__--](#7)||[--__8__--](#8)||[--__9__--](#9)||[--__10__--](#10)||[--__11__--](#11)||[--__12__--](#12)||[--__13__--](#13)||[--__BONUS__--](#BONUS)|"
   ]
  },
  {
   "cell_type": "code",
   "execution_count": null,
   "id": "cd94a32b",
   "metadata": {},
   "outputs": [],
   "source": [
    "from wrangle import wrangle_zillow, scale_zillow\n",
    "\n",
    "import pandas as pd\n",
    "import numpy as np\n",
    "\n",
    "import matplotlib.pyplot as plt\n",
    "import seaborn as sns\n",
    "import plotly.express as px\n",
    "\n",
    "from scipy.stats import pearsonr, spearmanr, \n"
   ]
  },
  {
   "cell_type": "markdown",
   "id": "840690a6",
   "metadata": {},
   "source": [
    "<a id='2'> </a>\n",
    "<div class=\"alert alert-block alert-info\">\n",
    "</div>\n",
    "\n",
    "***\n",
    "### 2. Make sure to perform a train, validate, test split before and use only your train dataset to explore the relationships between independent variables with other independent variables or independent variables with your target variable.\n",
    "***\n",
    "<div class=\"alert alert-block alert-info\">\n",
    "</div>\n",
    "\n",
    "|[--__TOP__--](#TOP)||[--__1__--](#1)||[--__2__--](#2)||[--__3__--](#3)||[--__4__--](#4)||[--__5__--](#5)||[--__6__--](#6)||[--__7__--](#7)||[--__8__--](#8)||[--__9__--](#9)||[--__10__--](#10)||[--__11__--](#11)||[--__12__--](#12)||[--__13__--](#13)||[--__BONUS__--](#BONUS)|"
   ]
  },
  {
   "cell_type": "code",
   "execution_count": null,
   "id": "d808a415",
   "metadata": {},
   "outputs": [],
   "source": []
  },
  {
   "cell_type": "markdown",
   "id": "d3731ea1",
   "metadata": {},
   "source": [
    "<a id='3'> </a>\n",
    "<div class=\"alert alert-block alert-info\">\n",
    "</div>\n",
    "\n",
    "***\n",
    "### 3. Write a function named `plot_variable_pairs` that accepts a dataframe as input and plots all of the pairwise relationships along with the regression line for each pair.\n",
    "***\n",
    "<div class=\"alert alert-block alert-info\">\n",
    "</div>\n",
    "\n",
    "|[--__TOP__--](#TOP)||[--__1__--](#1)||[--__2__--](#2)||[--__3__--](#3)||[--__4__--](#4)||[--__5__--](#5)||[--__6__--](#6)||[--__7__--](#7)||[--__8__--](#8)||[--__9__--](#9)||[--__10__--](#10)||[--__11__--](#11)||[--__12__--](#12)||[--__13__--](#13)||[--__BONUS__--](#BONUS)|"
   ]
  },
  {
   "cell_type": "code",
   "execution_count": null,
   "id": "22ad86b1",
   "metadata": {},
   "outputs": [],
   "source": []
  },
  {
   "cell_type": "markdown",
   "id": "4db0dace",
   "metadata": {},
   "source": [
    "<a id='4'> </a>\n",
    "<div class=\"alert alert-block alert-info\">\n",
    "</div>\n",
    "\n",
    "***\n",
    "### 4. Write a function named `plot_categorical_and_continuous_vars` that accepts your dataframe and the name of the columns that hold the continuous and categorical features and outputs 3 different plots for visualizing a categorical variable and a continuous variable.\n",
    "***\n",
    "<div class=\"alert alert-block alert-info\">\n",
    "</div>\n",
    "\n",
    "|[--__TOP__--](#TOP)||[--__1__--](#1)||[--__2__--](#2)||[--__3__--](#3)||[--__4__--](#4)||[--__5__--](#5)||[--__6__--](#6)||[--__7__--](#7)||[--__8__--](#8)||[--__9__--](#9)||[--__10__--](#10)||[--__11__--](#11)||[--__12__--](#12)||[--__13__--](#13)||[--__BONUS__--](#BONUS)|"
   ]
  },
  {
   "cell_type": "code",
   "execution_count": null,
   "id": "7e8fde34",
   "metadata": {},
   "outputs": [],
   "source": []
  },
  {
   "cell_type": "markdown",
   "id": "fd791845",
   "metadata": {},
   "source": [
    "<a id='5'> </a>\n",
    "<div class=\"alert alert-block alert-info\">\n",
    "</div>\n",
    "\n",
    "***\n",
    "### 5. Save the functions you have written to create visualizations in your `explore.py` file. Rewrite your notebook code so that you are using the functions imported from this file.\n",
    "***\n",
    "<div class=\"alert alert-block alert-info\">\n",
    "</div>\n",
    "\n",
    "|[--__TOP__--](#TOP)||[--__1__--](#1)||[--__2__--](#2)||[--__3__--](#3)||[--__4__--](#4)||[--__5__--](#5)||[--__6__--](#6)||[--__7__--](#7)||[--__8__--](#8)||[--__9__--](#9)||[--__10__--](#10)||[--__11__--](#11)||[--__12__--](#12)||[--__13__--](#13)||[--__BONUS__--](#BONUS)|"
   ]
  },
  {
   "cell_type": "code",
   "execution_count": null,
   "id": "2fef176e",
   "metadata": {},
   "outputs": [],
   "source": []
  },
  {
   "cell_type": "markdown",
   "id": "bd593482",
   "metadata": {},
   "source": [
    "<a id='6'> </a>\n",
    "<div class=\"alert alert-block alert-info\">\n",
    "</div>\n",
    "\n",
    "***\n",
    "### 6. Use the functions you created above to explore your Zillow train dataset in your `explore.ipynb` notebook.\n",
    "***\n",
    "<div class=\"alert alert-block alert-info\">\n",
    "</div>\n",
    "\n",
    "|[--__TOP__--](#TOP)||[--__1__--](#1)||[--__2__--](#2)||[--__3__--](#3)||[--__4__--](#4)||[--__5__--](#5)||[--__6__--](#6)||[--__7__--](#7)||[--__8__--](#8)||[--__9__--](#9)||[--__10__--](#10)||[--__11__--](#11)||[--__12__--](#12)||[--__13__--](#13)||[--__BONUS__--](#BONUS)|"
   ]
  },
  {
   "cell_type": "code",
   "execution_count": null,
   "id": "6688b998",
   "metadata": {},
   "outputs": [],
   "source": []
  },
  {
   "cell_type": "markdown",
   "id": "0b715416",
   "metadata": {},
   "source": [
    "<a id='7'> </a>\n",
    "<div class=\"alert alert-block alert-info\">\n",
    "</div>\n",
    "\n",
    "***\n",
    "### 7. Come up with some initial hypotheses based on your goal of predicting property value.\n",
    "***\n",
    "<div class=\"alert alert-block alert-info\">\n",
    "</div>\n",
    "\n",
    "|[--__TOP__--](#TOP)||[--__1__--](#1)||[--__2__--](#2)||[--__3__--](#3)||[--__4__--](#4)||[--__5__--](#5)||[--__6__--](#6)||[--__7__--](#7)||[--__8__--](#8)||[--__9__--](#9)||[--__10__--](#10)||[--__11__--](#11)||[--__12__--](#12)||[--__13__--](#13)||[--__BONUS__--](#BONUS)|"
   ]
  },
  {
   "cell_type": "code",
   "execution_count": null,
   "id": "2892b80e",
   "metadata": {},
   "outputs": [],
   "source": []
  },
  {
   "cell_type": "markdown",
   "id": "58df3545",
   "metadata": {},
   "source": [
    "<a id='8'> </a>\n",
    "<div class=\"alert alert-block alert-info\">\n",
    "</div>\n",
    "\n",
    "***\n",
    "### 8. Visualize all combinations of variables in some way.\n",
    "***\n",
    "<div class=\"alert alert-block alert-info\">\n",
    "</div>\n",
    "\n",
    "|[--__TOP__--](#TOP)||[--__1__--](#1)||[--__2__--](#2)||[--__3__--](#3)||[--__4__--](#4)||[--__5__--](#5)||[--__6__--](#6)||[--__7__--](#7)||[--__8__--](#8)||[--__9__--](#9)||[--__10__--](#10)||[--__11__--](#11)||[--__12__--](#12)||[--__13__--](#13)||[--__BONUS__--](#BONUS)|"
   ]
  },
  {
   "cell_type": "code",
   "execution_count": null,
   "id": "ab30ef21",
   "metadata": {},
   "outputs": [],
   "source": []
  },
  {
   "cell_type": "markdown",
   "id": "8ec5194f",
   "metadata": {},
   "source": [
    "<a id='9'> </a>\n",
    "<div class=\"alert alert-block alert-info\">\n",
    "</div>\n",
    "\n",
    "***\n",
    "### 9. Run the appropriate statistical tests where needed.\n",
    "***\n",
    "<div class=\"alert alert-block alert-info\">\n",
    "</div>\n",
    "\n",
    "|[--__TOP__--](#TOP)||[--__1__--](#1)||[--__2__--](#2)||[--__3__--](#3)||[--__4__--](#4)||[--__5__--](#5)||[--__6__--](#6)||[--__7__--](#7)||[--__8__--](#8)||[--__9__--](#9)||[--__10__--](#10)||[--__11__--](#11)||[--__12__--](#12)||[--__13__--](#13)||[--__BONUS__--](#BONUS)|"
   ]
  },
  {
   "cell_type": "code",
   "execution_count": null,
   "id": "3549ec12",
   "metadata": {},
   "outputs": [],
   "source": []
  },
  {
   "cell_type": "markdown",
   "id": "ee3b4106",
   "metadata": {},
   "source": [
    "<a id='10'> </a>\n",
    "<div class=\"alert alert-block alert-info\">\n",
    "</div>\n",
    "\n",
    "***\n",
    "### 10. What independent variables are correlated with the dependent variable, home value?\n",
    "***\n",
    "<div class=\"alert alert-block alert-info\">\n",
    "</div>\n",
    "\n",
    "|[--__TOP__--](#TOP)||[--__1__--](#1)||[--__2__--](#2)||[--__3__--](#3)||[--__4__--](#4)||[--__5__--](#5)||[--__6__--](#6)||[--__7__--](#7)||[--__8__--](#8)||[--__9__--](#9)||[--__10__--](#10)||[--__11__--](#11)||[--__12__--](#12)||[--__13__--](#13)||[--__BONUS__--](#BONUS)|"
   ]
  },
  {
   "cell_type": "code",
   "execution_count": null,
   "id": "5034ff7f",
   "metadata": {},
   "outputs": [],
   "source": []
  },
  {
   "cell_type": "markdown",
   "id": "1db6261f",
   "metadata": {},
   "source": [
    "<a id='11'> </a>\n",
    "<div class=\"alert alert-block alert-info\">\n",
    "</div>\n",
    "\n",
    "***\n",
    "### 11. Which independent variables are correlated with other independent variables (bedrooms, bathrooms, year built, square feet)?\n",
    "***\n",
    "<div class=\"alert alert-block alert-info\">\n",
    "</div>\n",
    "\n",
    "|[--__TOP__--](#TOP)||[--__1__--](#1)||[--__2__--](#2)||[--__3__--](#3)||[--__4__--](#4)||[--__5__--](#5)||[--__6__--](#6)||[--__7__--](#7)||[--__8__--](#8)||[--__9__--](#9)||[--__10__--](#10)||[--__11__--](#11)||[--__12__--](#12)||[--__13__--](#13)||[--__BONUS__--](#BONUS)|"
   ]
  },
  {
   "cell_type": "code",
   "execution_count": null,
   "id": "490c2c03",
   "metadata": {},
   "outputs": [],
   "source": []
  },
  {
   "cell_type": "markdown",
   "id": "eb316514",
   "metadata": {},
   "source": [
    "<a id='12'> </a>\n",
    "<div class=\"alert alert-block alert-info\">\n",
    "</div>\n",
    "\n",
    "***\n",
    "### 12. Make sure to document your takeaways from visualizations and statistical tests as well as the decisions you make throughout your process.\n",
    "***\n",
    "<div class=\"alert alert-block alert-info\">\n",
    "</div>\n",
    "\n",
    "|[--__TOP__--](#TOP)||[--__1__--](#1)||[--__2__--](#2)||[--__3__--](#3)||[--__4__--](#4)||[--__5__--](#5)||[--__6__--](#6)||[--__7__--](#7)||[--__8__--](#8)||[--__9__--](#9)||[--__10__--](#10)||[--__11__--](#11)||[--__12__--](#12)||[--__13__--](#13)||[--__BONUS__--](#BONUS)|"
   ]
  },
  {
   "cell_type": "code",
   "execution_count": null,
   "id": "d79b74c2",
   "metadata": {},
   "outputs": [],
   "source": []
  },
  {
   "cell_type": "markdown",
   "id": "a3c31bde",
   "metadata": {},
   "source": [
    "<a id='13'> </a>\n",
    "<div class=\"alert alert-block alert-info\">\n",
    "</div>\n",
    "\n",
    "***\n",
    "### 13. Explore your dataset with any other visualizations you think will be helpful.\n",
    "***\n",
    "<div class=\"alert alert-block alert-info\">\n",
    "</div>\n",
    "\n",
    "|[--__TOP__--](#TOP)||[--__1__--](#1)||[--__2__--](#2)||[--__3__--](#3)||[--__4__--](#4)||[--__5__--](#5)||[--__6__--](#6)||[--__7__--](#7)||[--__8__--](#8)||[--__9__--](#9)||[--__10__--](#10)||[--__11__--](#11)||[--__12__--](#12)||[--__13__--](#13)||[--__BONUS__--](#BONUS)|"
   ]
  },
  {
   "cell_type": "code",
   "execution_count": null,
   "id": "e8c43a6e",
   "metadata": {},
   "outputs": [],
   "source": []
  },
  {
   "cell_type": "markdown",
   "id": "78eb043a",
   "metadata": {},
   "source": [
    "<a id='BONUS'> </a>\n",
    "<div class=\"alert alert-block alert-info\">\n",
    "</div>\n",
    "\n",
    "***\n",
    "# Bonus Exercise\n",
    "***\n",
    "<div class=\"alert alert-block alert-info\">\n",
    "</div>\n",
    "\n",
    "|[--__TOP__--](#TOP)||[--__1__--](#1)||[--__2__--](#2)||[--__3__--](#3)||[--__4__--](#4)||[--__5__--](#5)||[--__6__--](#6)||[--__7__--](#7)||[--__8__--](#8)||[--__9__--](#9)||[--__10__--](#10)||[--__11__--](#11)||[--__12__--](#12)||[--__13__--](#13)||[--__BONUS__--](#BONUS)|"
   ]
  },
  {
   "cell_type": "markdown",
   "id": "21cb2729",
   "metadata": {},
   "source": [
    "\n",
    "1. In a seperate notebook called `explore_mall`, use the functions you have developed in this exercise with the `mall_customers` dataset in the Codeup database server. You will need to write a sql query to acquire your data. Make `spending_score` your target variable."
   ]
  },
  {
   "cell_type": "code",
   "execution_count": null,
   "id": "b98fe0a7",
   "metadata": {},
   "outputs": [],
   "source": []
  },
  {
   "cell_type": "markdown",
   "id": "c7dd8c95",
   "metadata": {},
   "source": [
    "***\n",
    "<div class=\"alert alert-block alert-info\">\n",
    "</div>\n",
    "\n",
    "|[--__TOP__--](#TOP)||[--__1__--](#1)||[--__2__--](#2)||[--__3__--](#3)||[--__4__--](#4)||[--__5__--](#5)||[--__6__--](#6)||[--__7__--](#7)||[--__8__--](#8)||[--__9__--](#9)||[--__10__--](#10)||[--__11__--](#11)||[--__12__--](#12)||[--__13__--](#13)||[--__BONUS__--](#BONUS)|\n",
    "\n",
    "<a id='END'></a>\n",
    "# Final Cell\n",
    "<br><br><br><br><br><br><br><br><br><br><br><br><br><br><br><br><br><br><br><br><br><br><br><br><br><br><br><br><br><br><br><br><br><br><br><br><br><br><br><br><br><br><br><br><br><br><br><br>"
   ]
  }
 ],
 "metadata": {
  "kernelspec": {
   "display_name": "Python 3 (ipykernel)",
   "language": "python",
   "name": "python3"
  },
  "language_info": {
   "codemirror_mode": {
    "name": "ipython",
    "version": 3
   },
   "file_extension": ".py",
   "mimetype": "text/x-python",
   "name": "python",
   "nbconvert_exporter": "python",
   "pygments_lexer": "ipython3",
   "version": "3.9.12"
  }
 },
 "nbformat": 4,
 "nbformat_minor": 5
}
