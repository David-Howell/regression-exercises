{
 "cells": [
  {
   "cell_type": "markdown",
   "id": "191a542c",
   "metadata": {},
   "source": [
    "# Exercises I\n",
    "Let's review the steps we take at the beginning of each new module.\n",
    "\n",
    "1. Create a new repository named regression-exercises in your GitHub; all of your Regression work will be housed here.\n",
    "2. Clone this repository within your local codeup-data-science directory.\n",
    "3. Create a .gitignore and make sure your list of 'files to ignore' includes your env.py file.\n",
    "4. Ceate a README.md file that outlines the contents and purpose of your repository.\n",
    "5. Add, commit, and push these two files.\n",
    "6. Now you can add your env.py file to this repository to access the Codeup database server.\n",
    "7. For these exercises, you will create wrangle.ipynb and wrangle.py files to hold necessary functions.\n",
    "8. As always, add, commit, and push your work often.\n"
   ]
  },
  {
   "cell_type": "markdown",
   "id": "ed75c952",
   "metadata": {},
   "source": [
    "# Exercises II\n",
    "Let's set up an example scenario as perspective for our regression exercises using the Zillow dataset."
   ]
  },
  {
   "cell_type": "markdown",
   "id": "b973962e",
   "metadata": {},
   "source": [
    "**As a Codeup data science graduate, you want to show off your skills to the Zillow data science team in hopes of getting an interview for a position you saw pop up on LinkedIn. You thought it might look impressive to build an end-to-end project in which you use some of their Kaggle data to predict property values using some of their available features; who knows, you might even do some feature engineering to blow them away. Your goal is to predict the values of single unit properties using the obervations from 2017.**"
   ]
  },
  {
   "cell_type": "markdown",
   "id": "b7999fa1",
   "metadata": {},
   "source": [
    "In these exercises, you will complete the first step toward the above goal: acquire and prepare the necessary Zillow data from the zillow database in the Codeup database server.\n",
    "\n",
    "1. Acquire `bedroomcnt`, `bathroomcnt`, `calculatedfinishedsquarefeet`, `taxvaluedollarcnt`, `yearbuilt`, `taxamount`, and `fips` from the zillow database for all 'Single Family Residential' properties."
   ]
  },
  {
   "cell_type": "code",
   "execution_count": 1,
   "id": "0b3a9bde",
   "metadata": {},
   "outputs": [],
   "source": [
    "from env import gdb"
   ]
  },
  {
   "cell_type": "code",
   "execution_count": 2,
   "id": "9612b87d",
   "metadata": {},
   "outputs": [
    {
     "name": "stdout",
     "output_type": "stream",
     "text": [
      "<class 'pandas.core.frame.DataFrame'>\n",
      "RangeIndex: 2985217 entries, 0 to 2985216\n",
      "Data columns (total 7 columns):\n",
      " #   Column         Dtype  \n",
      "---  ------         -----  \n",
      " 0   beds           float64\n",
      " 1   baths          float64\n",
      " 2   sqft           float64\n",
      " 3   tax_appraisal  float64\n",
      " 4   yr_built       float64\n",
      " 5   taxes          float64\n",
      " 6   fips           float64\n",
      "dtypes: float64(7)\n",
      "memory usage: 159.4 MB\n"
     ]
    }
   ],
   "source": [
    "df = gdb('zillow','''\n",
    "        SELECT \tbedroomcnt beds, \n",
    "\t\tbathroomcnt baths, \n",
    "\t\tcalculatedfinishedsquarefeet sqft, \n",
    "        taxvaluedollarcnt tax_appraisal, \n",
    "        yearbuilt yr_built,\n",
    "        taxamount taxes,\n",
    "        fips\n",
    "        FROM properties_2017;\n",
    "''')\n",
    "df.info()"
   ]
  },
  {
   "cell_type": "code",
   "execution_count": 5,
   "id": "8c102a57",
   "metadata": {},
   "outputs": [],
   "source": [
    "df.to_pickle('zillow_data')"
   ]
  },
  {
   "cell_type": "code",
   "execution_count": 8,
   "id": "d8bd8cc6",
   "metadata": {},
   "outputs": [
    {
     "data": {
      "text/plain": [
       "(20896519, (2985217, 7))"
      ]
     },
     "execution_count": 8,
     "metadata": {},
     "output_type": "execute_result"
    }
   ],
   "source": [
    "df.size , df.shape"
   ]
  },
  {
   "cell_type": "markdown",
   "id": "caab64eb",
   "metadata": {},
   "source": [
    "2. Using your acquired Zillow data, walk through the summarization and cleaning steps in your `wrangle.ipynb` file like we did above. You may handle the missing values however you feel is appropriate and meaningful; remember to document your process and decisions using markdown and code commenting where helpful."
   ]
  },
  {
   "cell_type": "code",
   "execution_count": 7,
   "id": "75d602d9",
   "metadata": {},
   "outputs": [
    {
     "data": {
      "text/html": [
       "<div>\n",
       "<style scoped>\n",
       "    .dataframe tbody tr th:only-of-type {\n",
       "        vertical-align: middle;\n",
       "    }\n",
       "\n",
       "    .dataframe tbody tr th {\n",
       "        vertical-align: top;\n",
       "    }\n",
       "\n",
       "    .dataframe thead th {\n",
       "        text-align: right;\n",
       "    }\n",
       "</style>\n",
       "<table border=\"1\" class=\"dataframe\">\n",
       "  <thead>\n",
       "    <tr style=\"text-align: right;\">\n",
       "      <th></th>\n",
       "      <th>count</th>\n",
       "      <th>mean</th>\n",
       "      <th>std</th>\n",
       "      <th>min</th>\n",
       "      <th>25%</th>\n",
       "      <th>50%</th>\n",
       "      <th>75%</th>\n",
       "      <th>max</th>\n",
       "    </tr>\n",
       "  </thead>\n",
       "  <tbody>\n",
       "    <tr>\n",
       "      <th>beds</th>\n",
       "      <td>2982272.0</td>\n",
       "      <td>3.093362</td>\n",
       "      <td>1.271569</td>\n",
       "      <td>0.00</td>\n",
       "      <td>2.00</td>\n",
       "      <td>3.00</td>\n",
       "      <td>4.0</td>\n",
       "      <td>2.500000e+01</td>\n",
       "    </tr>\n",
       "    <tr>\n",
       "      <th>baths</th>\n",
       "      <td>2982260.0</td>\n",
       "      <td>2.216196</td>\n",
       "      <td>1.078250</td>\n",
       "      <td>0.00</td>\n",
       "      <td>2.00</td>\n",
       "      <td>2.00</td>\n",
       "      <td>3.0</td>\n",
       "      <td>3.200000e+01</td>\n",
       "    </tr>\n",
       "    <tr>\n",
       "      <th>sqft</th>\n",
       "      <td>2940120.0</td>\n",
       "      <td>1831.455292</td>\n",
       "      <td>1954.198051</td>\n",
       "      <td>1.00</td>\n",
       "      <td>1215.00</td>\n",
       "      <td>1574.00</td>\n",
       "      <td>2140.0</td>\n",
       "      <td>9.525760e+05</td>\n",
       "    </tr>\n",
       "    <tr>\n",
       "      <th>tax_appraisal</th>\n",
       "      <td>2950951.0</td>\n",
       "      <td>443527.931066</td>\n",
       "      <td>816336.627054</td>\n",
       "      <td>1.00</td>\n",
       "      <td>188220.00</td>\n",
       "      <td>321161.00</td>\n",
       "      <td>514072.0</td>\n",
       "      <td>3.196225e+08</td>\n",
       "    </tr>\n",
       "    <tr>\n",
       "      <th>yr_built</th>\n",
       "      <td>2937384.0</td>\n",
       "      <td>1964.437713</td>\n",
       "      <td>23.644275</td>\n",
       "      <td>1801.00</td>\n",
       "      <td>1950.00</td>\n",
       "      <td>1963.00</td>\n",
       "      <td>1981.0</td>\n",
       "      <td>2.016000e+03</td>\n",
       "    </tr>\n",
       "    <tr>\n",
       "      <th>taxes</th>\n",
       "      <td>2962465.0</td>\n",
       "      <td>5408.948842</td>\n",
       "      <td>9675.566706</td>\n",
       "      <td>0.24</td>\n",
       "      <td>2468.62</td>\n",
       "      <td>4007.62</td>\n",
       "      <td>6230.5</td>\n",
       "      <td>3.823176e+06</td>\n",
       "    </tr>\n",
       "    <tr>\n",
       "      <th>fips</th>\n",
       "      <td>2982285.0</td>\n",
       "      <td>6048.053490</td>\n",
       "      <td>20.240825</td>\n",
       "      <td>6037.00</td>\n",
       "      <td>6037.00</td>\n",
       "      <td>6037.00</td>\n",
       "      <td>6059.0</td>\n",
       "      <td>6.111000e+03</td>\n",
       "    </tr>\n",
       "  </tbody>\n",
       "</table>\n",
       "</div>"
      ],
      "text/plain": [
       "                   count           mean            std      min        25%  \\\n",
       "beds           2982272.0       3.093362       1.271569     0.00       2.00   \n",
       "baths          2982260.0       2.216196       1.078250     0.00       2.00   \n",
       "sqft           2940120.0    1831.455292    1954.198051     1.00    1215.00   \n",
       "tax_appraisal  2950951.0  443527.931066  816336.627054     1.00  188220.00   \n",
       "yr_built       2937384.0    1964.437713      23.644275  1801.00    1950.00   \n",
       "taxes          2962465.0    5408.948842    9675.566706     0.24    2468.62   \n",
       "fips           2982285.0    6048.053490      20.240825  6037.00    6037.00   \n",
       "\n",
       "                     50%       75%           max  \n",
       "beds                3.00       4.0  2.500000e+01  \n",
       "baths               2.00       3.0  3.200000e+01  \n",
       "sqft             1574.00    2140.0  9.525760e+05  \n",
       "tax_appraisal  321161.00  514072.0  3.196225e+08  \n",
       "yr_built         1963.00    1981.0  2.016000e+03  \n",
       "taxes            4007.62    6230.5  3.823176e+06  \n",
       "fips             6037.00    6059.0  6.111000e+03  "
      ]
     },
     "execution_count": 7,
     "metadata": {},
     "output_type": "execute_result"
    }
   ],
   "source": [
    "# That's a lot of beds and baths...\n",
    "#   - But, none of thecounts match up to each other... NULLS!!\n",
    "df.describe().T"
   ]
  },
  {
   "cell_type": "code",
   "execution_count": 9,
   "id": "005f483a",
   "metadata": {},
   "outputs": [
    {
     "data": {
      "text/plain": [
       "beds              2945\n",
       "baths             2957\n",
       "sqft             45097\n",
       "tax_appraisal    34266\n",
       "yr_built         47833\n",
       "taxes            22752\n",
       "fips              2932\n",
       "dtype: int64"
      ]
     },
     "execution_count": 9,
     "metadata": {},
     "output_type": "execute_result"
    }
   ],
   "source": [
    "# Let's check it out \n",
    "#   - .snull() followed by .sum, with (axis=0) gives us the sum of the True nulls across each column\n",
    "df.isnull().sum(axis=0)\n",
    "\n",
    "# And we have 48K Houses without a know year built, yay."
   ]
  },
  {
   "cell_type": "code",
   "execution_count": 10,
   "id": "45a7f988",
   "metadata": {},
   "outputs": [
    {
     "data": {
      "text/plain": [
       "0    2901918\n",
       "2      36500\n",
       "1      33723\n",
       "3       9045\n",
       "7       2932\n",
       "4       1095\n",
       "5          4\n",
       "dtype: int64"
      ]
     },
     "execution_count": 10,
     "metadata": {},
     "output_type": "execute_result"
    }
   ],
   "source": [
    "# If we run it down the rows instead...\n",
    "#   - We would get a big long DataFrame 3M rows long with the number of True nulls in each row\n",
    "# Instead:\n",
    "#   - Let's .value_counts() - giving us the number of rows that have each value from 0-7 True nulls\n",
    "df.isnull().sum(axis=1).value_counts(dropna=False)\n",
    "\n",
    "# And we see 2.9M good full rows... looks like some nice low hanging fruit to me\n",
    "#  in total..."
   ]
  },
  {
   "cell_type": "code",
   "execution_count": 17,
   "id": "ed1c1506",
   "metadata": {},
   "outputs": [
    {
     "data": {
      "text/plain": [
       "83299"
      ]
     },
     "execution_count": 17,
     "metadata": {},
     "output_type": "execute_result"
    }
   ],
   "source": [
    "# We want to know how many cells we're dropping if we do it quick and dirty...\n",
    "\n",
    "# Save it to a variable and .sum() from the 1st index down to catch everything without 0 == True nulls\n",
    "num_nulls = df.isnull().sum(axis=1).value_counts()\n",
    "num_nulls[1:].sum()"
   ]
  },
  {
   "cell_type": "code",
   "execution_count": 11,
   "id": "577da7b8",
   "metadata": {},
   "outputs": [
    {
     "data": {
      "text/html": [
       "<div>\n",
       "<style scoped>\n",
       "    .dataframe tbody tr th:only-of-type {\n",
       "        vertical-align: middle;\n",
       "    }\n",
       "\n",
       "    .dataframe tbody tr th {\n",
       "        vertical-align: top;\n",
       "    }\n",
       "\n",
       "    .dataframe thead th {\n",
       "        text-align: right;\n",
       "    }\n",
       "</style>\n",
       "<table border=\"1\" class=\"dataframe\">\n",
       "  <thead>\n",
       "    <tr style=\"text-align: right;\">\n",
       "      <th></th>\n",
       "      <th>beds</th>\n",
       "      <th>baths</th>\n",
       "      <th>sqft</th>\n",
       "      <th>tax_appraisal</th>\n",
       "      <th>yr_built</th>\n",
       "      <th>taxes</th>\n",
       "      <th>fips</th>\n",
       "    </tr>\n",
       "  </thead>\n",
       "  <tbody>\n",
       "    <tr>\n",
       "      <th>22</th>\n",
       "      <td>0.0</td>\n",
       "      <td>0.0</td>\n",
       "      <td>1442.0</td>\n",
       "      <td>50689.0</td>\n",
       "      <td>NaN</td>\n",
       "      <td>1522.08</td>\n",
       "      <td>6037.0</td>\n",
       "    </tr>\n",
       "    <tr>\n",
       "      <th>34</th>\n",
       "      <td>3.0</td>\n",
       "      <td>3.0</td>\n",
       "      <td>2019.0</td>\n",
       "      <td>1431502.0</td>\n",
       "      <td>NaN</td>\n",
       "      <td>17034.34</td>\n",
       "      <td>6037.0</td>\n",
       "    </tr>\n",
       "    <tr>\n",
       "      <th>104</th>\n",
       "      <td>0.0</td>\n",
       "      <td>0.0</td>\n",
       "      <td>3725.0</td>\n",
       "      <td>587254.0</td>\n",
       "      <td>NaN</td>\n",
       "      <td>8253.47</td>\n",
       "      <td>6037.0</td>\n",
       "    </tr>\n",
       "    <tr>\n",
       "      <th>121</th>\n",
       "      <td>0.0</td>\n",
       "      <td>0.0</td>\n",
       "      <td>1120.0</td>\n",
       "      <td>NaN</td>\n",
       "      <td>1981.0</td>\n",
       "      <td>285.84</td>\n",
       "      <td>6037.0</td>\n",
       "    </tr>\n",
       "    <tr>\n",
       "      <th>122</th>\n",
       "      <td>0.0</td>\n",
       "      <td>0.0</td>\n",
       "      <td>1488.0</td>\n",
       "      <td>NaN</td>\n",
       "      <td>1978.0</td>\n",
       "      <td>399.58</td>\n",
       "      <td>6037.0</td>\n",
       "    </tr>\n",
       "    <tr>\n",
       "      <th>...</th>\n",
       "      <td>...</td>\n",
       "      <td>...</td>\n",
       "      <td>...</td>\n",
       "      <td>...</td>\n",
       "      <td>...</td>\n",
       "      <td>...</td>\n",
       "      <td>...</td>\n",
       "    </tr>\n",
       "    <tr>\n",
       "      <th>2981778</th>\n",
       "      <td>1.0</td>\n",
       "      <td>1.0</td>\n",
       "      <td>600.0</td>\n",
       "      <td>214264.0</td>\n",
       "      <td>1987.0</td>\n",
       "      <td>NaN</td>\n",
       "      <td>6037.0</td>\n",
       "    </tr>\n",
       "    <tr>\n",
       "      <th>2981849</th>\n",
       "      <td>5.0</td>\n",
       "      <td>3.0</td>\n",
       "      <td>2830.0</td>\n",
       "      <td>386686.0</td>\n",
       "      <td>1906.0</td>\n",
       "      <td>NaN</td>\n",
       "      <td>6037.0</td>\n",
       "    </tr>\n",
       "    <tr>\n",
       "      <th>2981939</th>\n",
       "      <td>0.0</td>\n",
       "      <td>0.0</td>\n",
       "      <td>NaN</td>\n",
       "      <td>74300.0</td>\n",
       "      <td>2014.0</td>\n",
       "      <td>793.96</td>\n",
       "      <td>6111.0</td>\n",
       "    </tr>\n",
       "    <tr>\n",
       "      <th>2981970</th>\n",
       "      <td>0.0</td>\n",
       "      <td>0.0</td>\n",
       "      <td>NaN</td>\n",
       "      <td>29100.0</td>\n",
       "      <td>2005.0</td>\n",
       "      <td>250.46</td>\n",
       "      <td>6111.0</td>\n",
       "    </tr>\n",
       "    <tr>\n",
       "      <th>2982279</th>\n",
       "      <td>8.0</td>\n",
       "      <td>6.0</td>\n",
       "      <td>4582.0</td>\n",
       "      <td>800000.0</td>\n",
       "      <td>2012.0</td>\n",
       "      <td>NaN</td>\n",
       "      <td>6037.0</td>\n",
       "    </tr>\n",
       "  </tbody>\n",
       "</table>\n",
       "<p>33723 rows × 7 columns</p>\n",
       "</div>"
      ],
      "text/plain": [
       "         beds  baths    sqft  tax_appraisal  yr_built     taxes    fips\n",
       "22        0.0    0.0  1442.0        50689.0       NaN   1522.08  6037.0\n",
       "34        3.0    3.0  2019.0      1431502.0       NaN  17034.34  6037.0\n",
       "104       0.0    0.0  3725.0       587254.0       NaN   8253.47  6037.0\n",
       "121       0.0    0.0  1120.0            NaN    1981.0    285.84  6037.0\n",
       "122       0.0    0.0  1488.0            NaN    1978.0    399.58  6037.0\n",
       "...       ...    ...     ...            ...       ...       ...     ...\n",
       "2981778   1.0    1.0   600.0       214264.0    1987.0       NaN  6037.0\n",
       "2981849   5.0    3.0  2830.0       386686.0    1906.0       NaN  6037.0\n",
       "2981939   0.0    0.0     NaN        74300.0    2014.0    793.96  6111.0\n",
       "2981970   0.0    0.0     NaN        29100.0    2005.0    250.46  6111.0\n",
       "2982279   8.0    6.0  4582.0       800000.0    2012.0       NaN  6037.0\n",
       "\n",
       "[33723 rows x 7 columns]"
      ]
     },
     "execution_count": 11,
     "metadata": {},
     "output_type": "execute_result"
    }
   ],
   "source": [
    "# Let's look into saving some of these and what that would look like\n",
    "#   - There are 34K with only 1 null, any chance they're all the same? 🤞🏻\n",
    "\n",
    "df[df.isnull().sum(axis=1) == 1]\n",
    "\n",
    "# Doesn't look like it..."
   ]
  },
  {
   "cell_type": "code",
   "execution_count": 29,
   "id": "4ab9c1c4",
   "metadata": {},
   "outputs": [
    {
     "data": {
      "text/plain": [
       "beds                 0\n",
       "baths                0\n",
       "sqft              1039\n",
       "tax_appraisal    24016\n",
       "yr_built          4443\n",
       "taxes             4225\n",
       "fips                 0\n",
       "dtype: int64"
      ]
     },
     "execution_count": 29,
     "metadata": {},
     "output_type": "execute_result"
    }
   ],
   "source": [
    "# Check where df.isnull() == True, .sum(axis=1) == 1 to sum across the columns and check for just 1 True null\n",
    "#   Then to look down the columns where there's only 1 null per row, and count the nulls across the columns\n",
    "\n",
    "df[df.isnull().sum(axis=1) == 1].isnull().sum(axis=0)"
   ]
  },
  {
   "cell_type": "markdown",
   "id": "15d652d7",
   "metadata": {},
   "source": [
    "**We see that 24K of the nulls are tax_apraisal... might be important for finding value**\n",
    "\n",
    " Maybe year built is something we can just guess at?\n",
    "\n",
    "- from the surrounding area homes with the same fips? Save 4K there \n",
    "<br>\n",
    "- Then guess taxes from the mean tax from tax apraisal amount... Save 4K there\n",
    "<br>\n",
    "- What's the chance we can get the tax_apraisal amount from taxes... Save 24K more\n",
    "\n",
    " That's for another day ;)"
   ]
  },
  {
   "cell_type": "code",
   "execution_count": 22,
   "id": "fbf39be4",
   "metadata": {},
   "outputs": [
    {
     "data": {
      "text/plain": [
       "0.02790383412663133"
      ]
     },
     "execution_count": 22,
     "metadata": {},
     "output_type": "execute_result"
    }
   ],
   "source": [
    "# I'm droping 83K rows from 3M... which is:\n",
    "num_nulls[1:].sum() / num_nulls.sum()"
   ]
  },
  {
   "cell_type": "code",
   "execution_count": 23,
   "id": "cbbaadd8",
   "metadata": {},
   "outputs": [
    {
     "data": {
      "text/plain": [
       "0.010719488733984832"
      ]
     },
     "execution_count": 23,
     "metadata": {},
     "output_type": "execute_result"
    }
   ],
   "source": [
    "# So if that's 2.8% and I'm talking about saving 32K...\n",
    "32_000 / num_nulls.sum()\n",
    "\n",
    "#  Which save another 1% and gets us down to dropping just 1.8% of the data\n",
    "\n",
    "#  Maybe worth it, but it's for another go"
   ]
  },
  {
   "cell_type": "code",
   "execution_count": 24,
   "id": "b51f1b28",
   "metadata": {},
   "outputs": [
    {
     "data": {
      "text/plain": [
       "(2901918, 7)"
      ]
     },
     "execution_count": 24,
     "metadata": {},
     "output_type": "execute_result"
    }
   ],
   "source": [
    "# Is that the shape we're looking for?\n",
    "df.dropna().shape\n",
    "\n",
    "# looks good to me..."
   ]
  },
  {
   "cell_type": "code",
   "execution_count": 26,
   "id": "5e4b2c66",
   "metadata": {},
   "outputs": [
    {
     "data": {
      "text/html": [
       "<div>\n",
       "<style scoped>\n",
       "    .dataframe tbody tr th:only-of-type {\n",
       "        vertical-align: middle;\n",
       "    }\n",
       "\n",
       "    .dataframe tbody tr th {\n",
       "        vertical-align: top;\n",
       "    }\n",
       "\n",
       "    .dataframe thead th {\n",
       "        text-align: right;\n",
       "    }\n",
       "</style>\n",
       "<table border=\"1\" class=\"dataframe\">\n",
       "  <thead>\n",
       "    <tr style=\"text-align: right;\">\n",
       "      <th></th>\n",
       "      <th>count</th>\n",
       "      <th>mean</th>\n",
       "      <th>std</th>\n",
       "      <th>min</th>\n",
       "      <th>25%</th>\n",
       "      <th>50%</th>\n",
       "      <th>75%</th>\n",
       "      <th>max</th>\n",
       "    </tr>\n",
       "  </thead>\n",
       "  <tbody>\n",
       "    <tr>\n",
       "      <th>beds</th>\n",
       "      <td>2901918.0</td>\n",
       "      <td>3.170278</td>\n",
       "      <td>1.185457</td>\n",
       "      <td>0.00</td>\n",
       "      <td>2.00</td>\n",
       "      <td>3.00</td>\n",
       "      <td>4.00</td>\n",
       "      <td>2.500000e+01</td>\n",
       "    </tr>\n",
       "    <tr>\n",
       "      <th>baths</th>\n",
       "      <td>2901918.0</td>\n",
       "      <td>2.271617</td>\n",
       "      <td>1.030979</td>\n",
       "      <td>0.00</td>\n",
       "      <td>2.00</td>\n",
       "      <td>2.00</td>\n",
       "      <td>3.00</td>\n",
       "      <td>3.200000e+01</td>\n",
       "    </tr>\n",
       "    <tr>\n",
       "      <th>sqft</th>\n",
       "      <td>2901918.0</td>\n",
       "      <td>1836.479432</td>\n",
       "      <td>1935.554085</td>\n",
       "      <td>1.00</td>\n",
       "      <td>1218.00</td>\n",
       "      <td>1581.00</td>\n",
       "      <td>2148.00</td>\n",
       "      <td>9.525760e+05</td>\n",
       "    </tr>\n",
       "    <tr>\n",
       "      <th>tax_appraisal</th>\n",
       "      <td>2901918.0</td>\n",
       "      <td>444828.167789</td>\n",
       "      <td>730804.472995</td>\n",
       "      <td>22.00</td>\n",
       "      <td>192600.00</td>\n",
       "      <td>324450.00</td>\n",
       "      <td>516903.00</td>\n",
       "      <td>2.870985e+08</td>\n",
       "    </tr>\n",
       "    <tr>\n",
       "      <th>yr_built</th>\n",
       "      <td>2901918.0</td>\n",
       "      <td>1964.258716</td>\n",
       "      <td>23.626704</td>\n",
       "      <td>1801.00</td>\n",
       "      <td>1950.00</td>\n",
       "      <td>1963.00</td>\n",
       "      <td>1981.00</td>\n",
       "      <td>2.016000e+03</td>\n",
       "    </tr>\n",
       "    <tr>\n",
       "      <th>taxes</th>\n",
       "      <td>2901918.0</td>\n",
       "      <td>5456.144079</td>\n",
       "      <td>8740.155378</td>\n",
       "      <td>5.04</td>\n",
       "      <td>2543.66</td>\n",
       "      <td>4059.52</td>\n",
       "      <td>6277.86</td>\n",
       "      <td>3.458861e+06</td>\n",
       "    </tr>\n",
       "    <tr>\n",
       "      <th>fips</th>\n",
       "      <td>2901918.0</td>\n",
       "      <td>6047.878252</td>\n",
       "      <td>20.090158</td>\n",
       "      <td>6037.00</td>\n",
       "      <td>6037.00</td>\n",
       "      <td>6037.00</td>\n",
       "      <td>6059.00</td>\n",
       "      <td>6.111000e+03</td>\n",
       "    </tr>\n",
       "  </tbody>\n",
       "</table>\n",
       "</div>"
      ],
      "text/plain": [
       "                   count           mean            std      min        25%  \\\n",
       "beds           2901918.0       3.170278       1.185457     0.00       2.00   \n",
       "baths          2901918.0       2.271617       1.030979     0.00       2.00   \n",
       "sqft           2901918.0    1836.479432    1935.554085     1.00    1218.00   \n",
       "tax_appraisal  2901918.0  444828.167789  730804.472995    22.00  192600.00   \n",
       "yr_built       2901918.0    1964.258716      23.626704  1801.00    1950.00   \n",
       "taxes          2901918.0    5456.144079    8740.155378     5.04    2543.66   \n",
       "fips           2901918.0    6047.878252      20.090158  6037.00    6037.00   \n",
       "\n",
       "                     50%        75%           max  \n",
       "beds                3.00       4.00  2.500000e+01  \n",
       "baths               2.00       3.00  3.200000e+01  \n",
       "sqft             1581.00    2148.00  9.525760e+05  \n",
       "tax_appraisal  324450.00  516903.00  2.870985e+08  \n",
       "yr_built         1963.00    1981.00  2.016000e+03  \n",
       "taxes            4059.52    6277.86  3.458861e+06  \n",
       "fips             6037.00    6059.00  6.111000e+03  "
      ]
     },
     "execution_count": 26,
     "metadata": {},
     "output_type": "execute_result"
    }
   ],
   "source": [
    "# We'll save the full dataframe to df_full to play around with at a later time\n",
    "df_full = df\n",
    "\n",
    "# set it equal to itself with all null rows dropped!\n",
    "df = df.dropna()\n",
    "\n",
    "# And see what it looks like\n",
    "df.describe().T"
   ]
  },
  {
   "cell_type": "code",
   "execution_count": 9,
   "id": "c1b0792d",
   "metadata": {},
   "outputs": [
    {
     "data": {
      "text/plain": [
       "46615"
      ]
     },
     "execution_count": 9,
     "metadata": {},
     "output_type": "execute_result"
    }
   ],
   "source": [
    "# There's still zeros in theh beds and baths columns, that's not right.\n",
    "no_beds_baths_index = df[(df.beds == 0) | (df.baths == 0)].index\n",
    "len(no_beds_baths_index)\n",
    "\n",
    "# Well... darn. Guess I'm dropping another 1.5% ish..."
   ]
  },
  {
   "cell_type": "code",
   "execution_count": 8,
   "id": "0bd9f880",
   "metadata": {},
   "outputs": [
    {
     "data": {
      "text/html": [
       "<div>\n",
       "<style scoped>\n",
       "    .dataframe tbody tr th:only-of-type {\n",
       "        vertical-align: middle;\n",
       "    }\n",
       "\n",
       "    .dataframe tbody tr th {\n",
       "        vertical-align: top;\n",
       "    }\n",
       "\n",
       "    .dataframe thead th {\n",
       "        text-align: right;\n",
       "    }\n",
       "</style>\n",
       "<table border=\"1\" class=\"dataframe\">\n",
       "  <thead>\n",
       "    <tr style=\"text-align: right;\">\n",
       "      <th></th>\n",
       "      <th>count</th>\n",
       "      <th>mean</th>\n",
       "      <th>std</th>\n",
       "      <th>min</th>\n",
       "      <th>25%</th>\n",
       "      <th>50%</th>\n",
       "      <th>75%</th>\n",
       "      <th>max</th>\n",
       "    </tr>\n",
       "  </thead>\n",
       "  <tbody>\n",
       "    <tr>\n",
       "      <th>beds</th>\n",
       "      <td>2855303.0</td>\n",
       "      <td>3.220891</td>\n",
       "      <td>1.124533</td>\n",
       "      <td>1.00</td>\n",
       "      <td>3.00</td>\n",
       "      <td>3.00</td>\n",
       "      <td>4.00</td>\n",
       "      <td>25.00</td>\n",
       "    </tr>\n",
       "    <tr>\n",
       "      <th>baths</th>\n",
       "      <td>2855303.0</td>\n",
       "      <td>2.305752</td>\n",
       "      <td>1.000843</td>\n",
       "      <td>0.50</td>\n",
       "      <td>2.00</td>\n",
       "      <td>2.00</td>\n",
       "      <td>3.00</td>\n",
       "      <td>32.00</td>\n",
       "    </tr>\n",
       "    <tr>\n",
       "      <th>sqft</th>\n",
       "      <td>2855303.0</td>\n",
       "      <td>1805.249165</td>\n",
       "      <td>1094.429550</td>\n",
       "      <td>1.00</td>\n",
       "      <td>1218.00</td>\n",
       "      <td>1577.00</td>\n",
       "      <td>2134.00</td>\n",
       "      <td>952576.00</td>\n",
       "    </tr>\n",
       "    <tr>\n",
       "      <th>tax_appraisal</th>\n",
       "      <td>2855303.0</td>\n",
       "      <td>441274.149034</td>\n",
       "      <td>607584.970057</td>\n",
       "      <td>22.00</td>\n",
       "      <td>193504.00</td>\n",
       "      <td>324572.00</td>\n",
       "      <td>516000.00</td>\n",
       "      <td>90188462.00</td>\n",
       "    </tr>\n",
       "    <tr>\n",
       "      <th>yr_built</th>\n",
       "      <td>2855303.0</td>\n",
       "      <td>1964.371389</td>\n",
       "      <td>23.566793</td>\n",
       "      <td>1801.00</td>\n",
       "      <td>1950.00</td>\n",
       "      <td>1963.00</td>\n",
       "      <td>1981.00</td>\n",
       "      <td>2016.00</td>\n",
       "    </tr>\n",
       "    <tr>\n",
       "      <th>taxes</th>\n",
       "      <td>2855303.0</td>\n",
       "      <td>5408.772482</td>\n",
       "      <td>7025.109525</td>\n",
       "      <td>12.57</td>\n",
       "      <td>2552.16</td>\n",
       "      <td>4059.66</td>\n",
       "      <td>6264.23</td>\n",
       "      <td>1078101.87</td>\n",
       "    </tr>\n",
       "    <tr>\n",
       "      <th>fips</th>\n",
       "      <td>2855303.0</td>\n",
       "      <td>6047.729691</td>\n",
       "      <td>19.909250</td>\n",
       "      <td>6037.00</td>\n",
       "      <td>6037.00</td>\n",
       "      <td>6037.00</td>\n",
       "      <td>6059.00</td>\n",
       "      <td>6111.00</td>\n",
       "    </tr>\n",
       "  </tbody>\n",
       "</table>\n",
       "</div>"
      ],
      "text/plain": [
       "                   count           mean            std      min        25%  \\\n",
       "beds           2855303.0       3.220891       1.124533     1.00       3.00   \n",
       "baths          2855303.0       2.305752       1.000843     0.50       2.00   \n",
       "sqft           2855303.0    1805.249165    1094.429550     1.00    1218.00   \n",
       "tax_appraisal  2855303.0  441274.149034  607584.970057    22.00  193504.00   \n",
       "yr_built       2855303.0    1964.371389      23.566793  1801.00    1950.00   \n",
       "taxes          2855303.0    5408.772482    7025.109525    12.57    2552.16   \n",
       "fips           2855303.0    6047.729691      19.909250  6037.00    6037.00   \n",
       "\n",
       "                     50%        75%          max  \n",
       "beds                3.00       4.00        25.00  \n",
       "baths               2.00       3.00        32.00  \n",
       "sqft             1577.00    2134.00    952576.00  \n",
       "tax_appraisal  324572.00  516000.00  90188462.00  \n",
       "yr_built         1963.00    1981.00      2016.00  \n",
       "taxes            4059.66    6264.23   1078101.87  \n",
       "fips             6037.00    6059.00      6111.00  "
      ]
     },
     "execution_count": 8,
     "metadata": {},
     "output_type": "execute_result"
    }
   ],
   "source": [
    "# I like these statistics a lot more... and feel good about the data integrity\n",
    "# I'd like to look into regaining some of my data using a couple of methods...\n",
    "df.drop(index= no_beds_baths_index).describe().T"
   ]
  },
  {
   "cell_type": "markdown",
   "id": "42fabcd3",
   "metadata": {},
   "source": [
    "# Regaining data:<br>\n",
    "**1. Use the squarefootage to model the number of bedrooms and bathrooms based on logistic regression model**\n",
    "<br><br>\n",
    "**2. Use tax appraisal data to approximate the taxes**\n",
    "<br><br>\n",
    "**3. Use taxes to approximate the tax appraisal (2 and 3 are the opposite cases when the opposite info is missing)**\n",
    "<br><br>\n",
    "**4. Check for patterns in the year built from index (this is a case where that could be true) or from fips...**\n",
    "  - Alternately, we might go back and grab the zip codes to better approximate year built\n",
    "  - Alternately still, we might find that year built doesn't affect value much...\n",
    "<br>\n",
    "\n",
    "**5. These are notes for the ETL lover that lives somewhere and gets some satisfaction out of cleaning data**\n",
    "  - Hello...?"
   ]
  },
  {
   "cell_type": "markdown",
   "id": "9bc24500",
   "metadata": {},
   "source": [
    "# 3. Store all of the necessary functions:\n",
    "  - to automate your process from acquiring the data to returning a cleaned dataframe with no missing values in your `wrangle.py` file. Name your final function `wrangle_zillow`."
   ]
  },
  {
   "cell_type": "code",
   "execution_count": 1,
   "id": "312902a7",
   "metadata": {},
   "outputs": [
    {
     "data": {
      "text/html": [
       "<div>\n",
       "<style scoped>\n",
       "    .dataframe tbody tr th:only-of-type {\n",
       "        vertical-align: middle;\n",
       "    }\n",
       "\n",
       "    .dataframe tbody tr th {\n",
       "        vertical-align: top;\n",
       "    }\n",
       "\n",
       "    .dataframe thead th {\n",
       "        text-align: right;\n",
       "    }\n",
       "</style>\n",
       "<table border=\"1\" class=\"dataframe\">\n",
       "  <thead>\n",
       "    <tr style=\"text-align: right;\">\n",
       "      <th></th>\n",
       "      <th>count</th>\n",
       "      <th>mean</th>\n",
       "      <th>std</th>\n",
       "      <th>min</th>\n",
       "      <th>25%</th>\n",
       "      <th>50%</th>\n",
       "      <th>75%</th>\n",
       "      <th>max</th>\n",
       "    </tr>\n",
       "  </thead>\n",
       "  <tbody>\n",
       "    <tr>\n",
       "      <th>beds</th>\n",
       "      <td>2855303.0</td>\n",
       "      <td>3.220891</td>\n",
       "      <td>1.124533</td>\n",
       "      <td>1.00</td>\n",
       "      <td>3.00</td>\n",
       "      <td>3.00</td>\n",
       "      <td>4.00</td>\n",
       "      <td>25.00</td>\n",
       "    </tr>\n",
       "    <tr>\n",
       "      <th>baths</th>\n",
       "      <td>2855303.0</td>\n",
       "      <td>2.305752</td>\n",
       "      <td>1.000843</td>\n",
       "      <td>0.50</td>\n",
       "      <td>2.00</td>\n",
       "      <td>2.00</td>\n",
       "      <td>3.00</td>\n",
       "      <td>32.00</td>\n",
       "    </tr>\n",
       "    <tr>\n",
       "      <th>sqft</th>\n",
       "      <td>2855303.0</td>\n",
       "      <td>1805.249165</td>\n",
       "      <td>1094.429550</td>\n",
       "      <td>1.00</td>\n",
       "      <td>1218.00</td>\n",
       "      <td>1577.00</td>\n",
       "      <td>2134.00</td>\n",
       "      <td>952576.00</td>\n",
       "    </tr>\n",
       "    <tr>\n",
       "      <th>tax_appraisal</th>\n",
       "      <td>2855303.0</td>\n",
       "      <td>441274.149034</td>\n",
       "      <td>607584.970057</td>\n",
       "      <td>22.00</td>\n",
       "      <td>193504.00</td>\n",
       "      <td>324572.00</td>\n",
       "      <td>516000.00</td>\n",
       "      <td>90188462.00</td>\n",
       "    </tr>\n",
       "    <tr>\n",
       "      <th>yr_built</th>\n",
       "      <td>2855303.0</td>\n",
       "      <td>1964.371389</td>\n",
       "      <td>23.566793</td>\n",
       "      <td>1801.00</td>\n",
       "      <td>1950.00</td>\n",
       "      <td>1963.00</td>\n",
       "      <td>1981.00</td>\n",
       "      <td>2016.00</td>\n",
       "    </tr>\n",
       "    <tr>\n",
       "      <th>taxes</th>\n",
       "      <td>2855303.0</td>\n",
       "      <td>5408.772482</td>\n",
       "      <td>7025.109525</td>\n",
       "      <td>12.57</td>\n",
       "      <td>2552.16</td>\n",
       "      <td>4059.66</td>\n",
       "      <td>6264.23</td>\n",
       "      <td>1078101.87</td>\n",
       "    </tr>\n",
       "    <tr>\n",
       "      <th>fips</th>\n",
       "      <td>2855303.0</td>\n",
       "      <td>6047.729691</td>\n",
       "      <td>19.909250</td>\n",
       "      <td>6037.00</td>\n",
       "      <td>6037.00</td>\n",
       "      <td>6037.00</td>\n",
       "      <td>6059.00</td>\n",
       "      <td>6111.00</td>\n",
       "    </tr>\n",
       "  </tbody>\n",
       "</table>\n",
       "</div>"
      ],
      "text/plain": [
       "                   count           mean            std      min        25%  \\\n",
       "beds           2855303.0       3.220891       1.124533     1.00       3.00   \n",
       "baths          2855303.0       2.305752       1.000843     0.50       2.00   \n",
       "sqft           2855303.0    1805.249165    1094.429550     1.00    1218.00   \n",
       "tax_appraisal  2855303.0  441274.149034  607584.970057    22.00  193504.00   \n",
       "yr_built       2855303.0    1964.371389      23.566793  1801.00    1950.00   \n",
       "taxes          2855303.0    5408.772482    7025.109525    12.57    2552.16   \n",
       "fips           2855303.0    6047.729691      19.909250  6037.00    6037.00   \n",
       "\n",
       "                     50%        75%          max  \n",
       "beds                3.00       4.00        25.00  \n",
       "baths               2.00       3.00        32.00  \n",
       "sqft             1577.00    2134.00    952576.00  \n",
       "tax_appraisal  324572.00  516000.00  90188462.00  \n",
       "yr_built         1963.00    1981.00      2016.00  \n",
       "taxes            4059.66    6264.23   1078101.87  \n",
       "fips             6037.00    6059.00      6111.00  "
      ]
     },
     "execution_count": 1,
     "metadata": {},
     "output_type": "execute_result"
    }
   ],
   "source": [
    "# We're gonna restart the kernel here, and just run this cell...\n",
    "import pandas as pd\n",
    "from wrangle import wrangle_zillow\n",
    "\n",
    "df = wrangle_zillow()\n",
    "\n",
    "df.describe().T"
   ]
  },
  {
   "cell_type": "code",
   "execution_count": 2,
   "id": "50c6e789",
   "metadata": {},
   "outputs": [],
   "source": [
    "#  And it works. I still have 2.8 Million entries in my dataset.\n",
    "df_full = pd.read_pickle('zillow_data')"
   ]
  },
  {
   "cell_type": "code",
   "execution_count": 5,
   "id": "a7702d60",
   "metadata": {},
   "outputs": [
    {
     "data": {
      "text/plain": [
       "0.9564808856441592"
      ]
     },
     "execution_count": 5,
     "metadata": {},
     "output_type": "execute_result"
    }
   ],
   "source": [
    "df.shape[0] / df_full.shape[0]\n",
    "\n",
    "# Which is 96% of my original dataset"
   ]
  },
  {
   "cell_type": "markdown",
   "id": "48ca4419",
   "metadata": {},
   "source": [
    "# Final cell\n",
    "<br><br><br><br><br><br><br><br><br><br><br><br><br><br><br><br><br><br><br><br><br><br><br><br><br><br><br><br><br><br><br><br><br><br><br><br><br><br><br><br><br><br>"
   ]
  }
 ],
 "metadata": {
  "kernelspec": {
   "display_name": "Python 3 (ipykernel)",
   "language": "python",
   "name": "python3"
  },
  "language_info": {
   "codemirror_mode": {
    "name": "ipython",
    "version": 3
   },
   "file_extension": ".py",
   "mimetype": "text/x-python",
   "name": "python",
   "nbconvert_exporter": "python",
   "pygments_lexer": "ipython3",
   "version": "3.9.12"
  }
 },
 "nbformat": 4,
 "nbformat_minor": 5
}
