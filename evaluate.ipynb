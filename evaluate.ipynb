{
 "cells": [
  {
   "cell_type": "markdown",
   "id": "78c5fe26",
   "metadata": {},
   "source": [
    "<a id='TOP'> </a>\n",
    "<div class=\"alert alert-block alert-info\">\n",
    "</div>\n",
    "\n",
    "***"
   ]
  },
  {
   "cell_type": "markdown",
   "id": "8b8e3728",
   "metadata": {},
   "source": [
    "# Exercises\n",
    "Do you work for this exercise in either a jupyter notebook named `evaluate` within your `regression-exercises` repository. By the end of this exercise you will also create a python script named `evaluate`, so the overall deliverables for this exercise are the python script and jupyter notebook both with the name evaluate within your `regression-exercises` repo.\n",
    "***\n",
    "<div class=\"alert alert-block alert-info\">\n",
    "</div>\n",
    "\n",
    "|[--__TOP__--](#TOP)||[--__1__--](#1)||[--__2__--](#2)||[--__3__--](#3)||[--__4__--](#4)||[--__5__--](#5)||[--__6__--](#6)||[--__7__--](#7)||[--__8__--](#8)||[--__9__--](#9)||[--__BONUS__--](#BONUS)||[--__Bonus_1__--](#B1)||[--__Bonus_2__--](#B2)|"
   ]
  },
  {
   "cell_type": "code",
   "execution_count": null,
   "id": "c3a3736a",
   "metadata": {},
   "outputs": [],
   "source": []
  },
  {
   "cell_type": "markdown",
   "id": "92f516b9",
   "metadata": {},
   "source": [
    "<a id='1'> </a>\n",
    "<div class=\"alert alert-block alert-info\">\n",
    "</div>\n",
    "\n",
    "***\n",
    "### 1. Load your `zillow dataset`.\n",
    "***\n",
    "<div class=\"alert alert-block alert-info\">\n",
    "</div>\n",
    "\n",
    "|[--__TOP__--](#TOP)||[--__1__--](#1)||[--__2__--](#2)||[--__3__--](#3)||[--__4__--](#4)||[--__5__--](#5)||[--__6__--](#6)||[--__7__--](#7)||[--__8__--](#8)||[--__9__--](#9)||[--__BONUS__--](#BONUS)||[--__Bonus_1__--](#B1)||[--__Bonus_2__--](#B2)|"
   ]
  },
  {
   "cell_type": "code",
   "execution_count": null,
   "id": "cd75d0f9",
   "metadata": {},
   "outputs": [],
   "source": []
  },
  {
   "cell_type": "markdown",
   "id": "3c19c832",
   "metadata": {},
   "source": [
    "<a id='2'> </a>\n",
    "<div class=\"alert alert-block alert-info\">\n",
    "</div>\n",
    "\n",
    "***\n",
    "### 2. Fit a linear regression model (ordinary least squares) and compute yhat, predictions of `taxvaluedollarcnt` using only `calculatedfinishedsqft`.\n",
    "***\n",
    "<div class=\"alert alert-block alert-info\">\n",
    "</div>\n",
    "\n",
    "|[--__TOP__--](#TOP)||[--__1__--](#1)||[--__2__--](#2)||[--__3__--](#3)||[--__4__--](#4)||[--__5__--](#5)||[--__6__--](#6)||[--__7__--](#7)||[--__8__--](#8)||[--__9__--](#9)||[--__BONUS__--](#BONUS)||[--__Bonus_1__--](#B1)||[--__Bonus_2__--](#B2)|"
   ]
  },
  {
   "cell_type": "code",
   "execution_count": null,
   "id": "6c1c3af2",
   "metadata": {},
   "outputs": [],
   "source": []
  },
  {
   "cell_type": "markdown",
   "id": "1aa6fecd",
   "metadata": {},
   "source": [
    "#### Here is some sample code to get you started:"
   ]
  },
  {
   "cell_type": "code",
   "execution_count": null,
   "id": "116951de",
   "metadata": {},
   "outputs": [],
   "source": [
    "from sklearn.linear_model import LinearRegression\n",
    "\n",
    "# assuming X and y are already defined\n",
    "model = LinearRegression().fit(X, y)\n",
    "predictions = model.predict(X)"
   ]
  },
  {
   "cell_type": "markdown",
   "id": "e0448d48",
   "metadata": {},
   "source": [
    "Modify and add to the code above as necessary for it to work with the zillow dataset.\n",
    "\n",
    "<a id='3'> </a>\n",
    "<div class=\"alert alert-block alert-info\">\n",
    "</div>\n",
    "\n",
    "***\n",
    "### 3. Plot the residuals for the linear regression model that you made.\n",
    "***\n",
    "<div class=\"alert alert-block alert-info\">\n",
    "</div>\n",
    "\n",
    "|[--__TOP__--](#TOP)||[--__1__--](#1)||[--__2__--](#2)||[--__3__--](#3)||[--__4__--](#4)||[--__5__--](#5)||[--__6__--](#6)||[--__7__--](#7)||[--__8__--](#8)||[--__9__--](#9)||[--__BONUS__--](#BONUS)||[--__Bonus_1__--](#B1)||[--__Bonus_2__--](#B2)|"
   ]
  },
  {
   "cell_type": "code",
   "execution_count": null,
   "id": "e6bc9603",
   "metadata": {},
   "outputs": [],
   "source": []
  },
  {
   "cell_type": "markdown",
   "id": "83de375b",
   "metadata": {},
   "source": [
    "<a id='4'> </a>\n",
    "<div class=\"alert alert-block alert-info\">\n",
    "</div>\n",
    "\n",
    "***\n",
    "### 4. Calculate the sum of squared errors, explained sum of squares, total sum of squares, mean squared error, and root mean squared error for your model.\n",
    "***\n",
    "<div class=\"alert alert-block alert-info\">\n",
    "</div>\n",
    "\n",
    "|[--__TOP__--](#TOP)||[--__1__--](#1)||[--__2__--](#2)||[--__3__--](#3)||[--__4__--](#4)||[--__5__--](#5)||[--__6__--](#6)||[--__7__--](#7)||[--__8__--](#8)||[--__9__--](#9)||[--__BONUS__--](#BONUS)||[--__Bonus_1__--](#B1)||[--__Bonus_2__--](#B2)|"
   ]
  },
  {
   "cell_type": "code",
   "execution_count": null,
   "id": "2f2e832b",
   "metadata": {},
   "outputs": [],
   "source": []
  },
  {
   "cell_type": "markdown",
   "id": "53a79822",
   "metadata": {},
   "source": [
    "<a id='5'> </a>\n",
    "<div class=\"alert alert-block alert-info\">\n",
    "</div>\n",
    "\n",
    "***\n",
    "\n",
    "### 5. Calculate the sum of squared errors, mean squared error, and root mean squared error for the baseline model (i.e. a model that always predicts the average `taxvaluedollarcnt` amount).\n",
    "***\n",
    "<div class=\"alert alert-block alert-info\">\n",
    "</div>\n",
    "\n",
    "|[--__TOP__--](#TOP)||[--__1__--](#1)||[--__2__--](#2)||[--__3__--](#3)||[--__4__--](#4)||[--__5__--](#5)||[--__6__--](#6)||[--__7__--](#7)||[--__8__--](#8)||[--__9__--](#9)||[--__BONUS__--](#BONUS)||[--__Bonus_1__--](#B1)||[--__Bonus_2__--](#B2)|"
   ]
  },
  {
   "cell_type": "code",
   "execution_count": null,
   "id": "841c5754",
   "metadata": {},
   "outputs": [],
   "source": []
  },
  {
   "cell_type": "markdown",
   "id": "1d01b797",
   "metadata": {},
   "source": [
    "<a id='6'> </a>\n",
    "<div class=\"alert alert-block alert-info\">\n",
    "</div>\n",
    "\n",
    "***\n",
    "\n",
    "### 6. Write python code that compares the sum of squared errors for your model against the sum of squared errors for the baseline model and outputs whether or not your model performs better than the baseline model.\n",
    "***\n",
    "<div class=\"alert alert-block alert-info\">\n",
    "</div>\n",
    "\n",
    "|[--__TOP__--](#TOP)||[--__1__--](#1)||[--__2__--](#2)||[--__3__--](#3)||[--__4__--](#4)||[--__5__--](#5)||[--__6__--](#6)||[--__7__--](#7)||[--__8__--](#8)||[--__9__--](#9)||[--__BONUS__--](#BONUS)||[--__Bonus_1__--](#B1)||[--__Bonus_2__--](#B2)|"
   ]
  },
  {
   "cell_type": "code",
   "execution_count": null,
   "id": "a8b1b999",
   "metadata": {},
   "outputs": [],
   "source": []
  },
  {
   "cell_type": "markdown",
   "id": "e3f37d7d",
   "metadata": {},
   "source": [
    "<a id='7'> </a>\n",
    "<div class=\"alert alert-block alert-info\">\n",
    "</div>\n",
    "\n",
    "***\n",
    "\n",
    "### 7. What is the amount of variance explained in your model?\n",
    "***\n",
    "<div class=\"alert alert-block alert-info\">\n",
    "</div>\n",
    "\n",
    "|[--__TOP__--](#TOP)||[--__1__--](#1)||[--__2__--](#2)||[--__3__--](#3)||[--__4__--](#4)||[--__5__--](#5)||[--__6__--](#6)||[--__7__--](#7)||[--__8__--](#8)||[--__9__--](#9)||[--__BONUS__--](#BONUS)||[--__Bonus_1__--](#B1)||[--__Bonus_2__--](#B2)|"
   ]
  },
  {
   "cell_type": "code",
   "execution_count": null,
   "id": "e23617d7",
   "metadata": {},
   "outputs": [],
   "source": []
  },
  {
   "cell_type": "markdown",
   "id": "fc53625d",
   "metadata": {},
   "source": [
    "<a id='8'> </a>\n",
    "<div class=\"alert alert-block alert-info\">\n",
    "</div>\n",
    "\n",
    "***\n",
    "\n",
    "### 8. Is your model better than the baseline model?\n",
    "***\n",
    "<div class=\"alert alert-block alert-info\">\n",
    "</div>\n",
    "\n",
    "|[--__TOP__--](#TOP)||[--__1__--](#1)||[--__2__--](#2)||[--__3__--](#3)||[--__4__--](#4)||[--__5__--](#5)||[--__6__--](#6)||[--__7__--](#7)||[--__8__--](#8)||[--__9__--](#9)||[--__BONUS__--](#BONUS)||[--__Bonus_1__--](#B1)||[--__Bonus_2__--](#B2)|"
   ]
  },
  {
   "cell_type": "code",
   "execution_count": null,
   "id": "d06fc258",
   "metadata": {},
   "outputs": [],
   "source": []
  },
  {
   "cell_type": "markdown",
   "id": "d87b3c76",
   "metadata": {},
   "source": [
    "<a id='9'> </a>\n",
    "<div class=\"alert alert-block alert-info\">\n",
    "</div>\n",
    "\n",
    "***\n",
    "\n",
    "### 9. Create a file named `evaluate.py` that contains the following functions.\n",
    "***\n",
    "<div class=\"alert alert-block alert-info\">\n",
    "</div>\n",
    "\n",
    "|[--__TOP__--](#TOP)||[--__1__--](#1)||[--__2__--](#2)||[--__3__--](#3)||[--__4__--](#4)||[--__5__--](#5)||[--__6__--](#6)||[--__7__--](#7)||[--__8__--](#8)||[--__9__--](#9)||[--__BONUS__--](#BONUS)||[--__Bonus_1__--](#B1)||[--__Bonus_2__--](#B2)|\n",
    "\n",
    "  - `plot_residuals(y, yhat)`: creates a residual plot\n",
    "  - `regression_errors(y, yhat)`: returns the following values:\n",
    "    - sum of squared errors (SSE)\n",
    "    - explained sum of squares (ESS)\n",
    "    - total sum of squares (TSS)\n",
    "    - mean squared error (MSE)\n",
    "    - root mean squared error (RMSE)\n",
    "  - `baseline_mean_errors(y)`: computes the SSE, MSE, and RMSE for the baseline model\n",
    "  - `better_than_baseline(y, yhat)`: returns true if your model performs better than the baseline, otherwise false"
   ]
  },
  {
   "cell_type": "code",
   "execution_count": null,
   "id": "cd6e8772",
   "metadata": {},
   "outputs": [],
   "source": []
  },
  {
   "cell_type": "markdown",
   "id": "eefeba01",
   "metadata": {},
   "source": [
    "<a id='BONUS'> </a>\n",
    "<div class=\"alert alert-block alert-info\">\n",
    "</div>\n",
    "\n",
    "***\n",
    "\n",
    "### Bonus Exercises\n",
    "\n",
    "<a id='B1'> </a>\n",
    "<div class=\"alert alert-block alert-info\">\n",
    "</div>\n",
    "\n",
    "***\n",
    "\n",
    "### 1. Load the `tips` dataset from either `pydataset` or `seaborn`. Fit a linear regression model (ordinary least squares) and compute `yhat`, predictions of `tip` using `total_bill`.\n",
    "***\n",
    "<div class=\"alert alert-block alert-info\">\n",
    "</div>\n",
    "\n",
    "|[--__TOP__--](#TOP)||[--__1__--](#1)||[--__2__--](#2)||[--__3__--](#3)||[--__4__--](#4)||[--__5__--](#5)||[--__6__--](#6)||[--__7__--](#7)||[--__8__--](#8)||[--__9__--](#9)||[--__BONUS__--](#BONUS)||[--__Bonus_1__--](#B1)||[--__Bonus_2__--](#B2)|"
   ]
  },
  {
   "cell_type": "code",
   "execution_count": null,
   "id": "6466dce2",
   "metadata": {},
   "outputs": [],
   "source": []
  },
  {
   "cell_type": "markdown",
   "id": "de265748",
   "metadata": {},
   "source": [
    "<a id='B2'> </a>\n",
    "<div class=\"alert alert-block alert-info\">\n",
    "</div>\n",
    "\n",
    "***\n",
    "\n",
    "### 2. Load the `mpg` dataset and fit a model that predicts highway mileage based on engine displacement. Take a look at all the regression evaluation metrics, and determine whether this model is better than the baseline model. Use the functions from your `evaluate.py` to help accomplish this.\n",
    "***\n",
    "<div class=\"alert alert-block alert-info\">\n",
    "</div>\n",
    "\n",
    "|[--__TOP__--](#TOP)||[--__1__--](#1)||[--__2__--](#2)||[--__3__--](#3)||[--__4__--](#4)||[--__5__--](#5)||[--__6__--](#6)||[--__7__--](#7)||[--__8__--](#8)||[--__9__--](#9)||[--__BONUS__--](#BONUS)||[--__Bonus_1__--](#B1)||[--__Bonus_2__--](#B2)|"
   ]
  },
  {
   "cell_type": "code",
   "execution_count": null,
   "id": "c7704b5d",
   "metadata": {},
   "outputs": [],
   "source": []
  },
  {
   "cell_type": "markdown",
   "id": "ca45a155",
   "metadata": {},
   "source": [
    "# Final Cell\n",
    "<br><br><br><br><br><br><br><br><br><br><br><br><br><br><br><br><br><br><br><br><br><br><br><br><br><br><br><br><br><br><br><br><br><br><br><br><br><br><br><br><br><br><br><br><br><br><br><br><br><br><br>"
   ]
  }
 ],
 "metadata": {
  "kernelspec": {
   "display_name": "Python 3 (ipykernel)",
   "language": "python",
   "name": "python3"
  },
  "language_info": {
   "codemirror_mode": {
    "name": "ipython",
    "version": 3
   },
   "file_extension": ".py",
   "mimetype": "text/x-python",
   "name": "python",
   "nbconvert_exporter": "python",
   "pygments_lexer": "ipython3",
   "version": "3.9.12"
  }
 },
 "nbformat": 4,
 "nbformat_minor": 5
}
